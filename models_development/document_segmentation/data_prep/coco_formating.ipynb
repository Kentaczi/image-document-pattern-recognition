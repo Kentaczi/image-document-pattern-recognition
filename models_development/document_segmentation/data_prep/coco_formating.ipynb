{
 "cells": [
  {
   "cell_type": "code",
   "execution_count": 31,
   "id": "3f741206-2d2e-408b-99f6-9db344551eac",
   "metadata": {
    "tags": []
   },
   "outputs": [],
   "source": [
    "import pandas as pd\n",
    "import cv2\n",
    "from pathlib import Path\n",
    "import os\n",
    "from tqdm import tqdm\n",
    "from sklearn.model_selection import train_test_split\n",
    "import shutil"
   ]
  },
  {
   "cell_type": "code",
   "execution_count": 3,
   "id": "78a0a6ca-8025-4a7d-9bd3-076a3a496f61",
   "metadata": {
    "tags": []
   },
   "outputs": [],
   "source": [
    "df = pd.read_pickle('annot_data.pkl')"
   ]
  },
  {
   "cell_type": "code",
   "execution_count": 4,
   "id": "adce53ec-4c9f-42ed-a45f-6db7b6fa65b7",
   "metadata": {
    "tags": []
   },
   "outputs": [],
   "source": [
    "pth = Path('./export_data/')"
   ]
  },
  {
   "cell_type": "code",
   "execution_count": 5,
   "id": "e49407df-e09b-4826-b3aa-cca7ef84cfc1",
   "metadata": {
    "tags": []
   },
   "outputs": [],
   "source": [
    "files = os.listdir(pth)"
   ]
  },
  {
   "cell_type": "code",
   "execution_count": 6,
   "id": "280cf302-4076-42b7-9dc9-faa01a27bfd5",
   "metadata": {
    "tags": []
   },
   "outputs": [],
   "source": [
    "df['file_name']=df['export_name'].str.rsplit('/').str[-1]"
   ]
  },
  {
   "cell_type": "code",
   "execution_count": 7,
   "id": "af3e9f76-4e2c-42cd-a25e-4ec67c673d96",
   "metadata": {
    "tags": []
   },
   "outputs": [],
   "source": [
    "df['is_present'] = df['file_name'].isin(files)"
   ]
  },
  {
   "cell_type": "code",
   "execution_count": 8,
   "id": "f310b43a-a559-417b-abb4-37dcacdbfa50",
   "metadata": {
    "tags": []
   },
   "outputs": [
    {
     "name": "stderr",
     "output_type": "stream",
     "text": [
      "875it [00:00, 55024.38it/s]\n"
     ]
    }
   ],
   "source": [
    "coco_info_list = []\n",
    "image_width=512\n",
    "image_height=512\n",
    "for i,r in tqdm(df.iterrows()):\n",
    "    cords = r['cords']\n",
    "    x_l = [_[0] for _ in cords]\n",
    "    y_l = [_[1] for _ in cords]\n",
    "    x_min = min(x_l)\n",
    "    x_max = max(x_l)\n",
    "    y_min = min(y_l)\n",
    "    y_max = max(y_l)\n",
    "    x_center = ((x_min + x_max) / 2) / image_width\n",
    "    y_center = ((y_min + y_max) / 2) / image_height\n",
    "    width = (x_max - x_min) / image_width\n",
    "    height = (y_max - y_min) / image_height\n",
    "    coco_info = [x_center, y_center, width, height]\n",
    "    coco_info_list.append(coco_info)"
   ]
  },
  {
   "cell_type": "code",
   "execution_count": 18,
   "id": "df2525d8-fe98-4564-8e8f-ffffb615f135",
   "metadata": {
    "tags": []
   },
   "outputs": [],
   "source": [
    "df['coco_info'] = coco_info_list"
   ]
  },
  {
   "cell_type": "code",
   "execution_count": 20,
   "id": "f00c92bc-d3bc-42fc-96ad-3c37bebe13ad",
   "metadata": {
    "tags": []
   },
   "outputs": [],
   "source": [
    "_names = df[df['is_present']==True]['file_name'].to_list()"
   ]
  },
  {
   "cell_type": "code",
   "execution_count": 21,
   "id": "4459ac16-dbb1-4a96-9046-2e38301b0495",
   "metadata": {
    "tags": []
   },
   "outputs": [],
   "source": [
    "train, _ = train_test_split(_names,train_size=0.7)"
   ]
  },
  {
   "cell_type": "code",
   "execution_count": 22,
   "id": "70b10fde-d265-4493-916e-0921b1eac253",
   "metadata": {},
   "outputs": [],
   "source": [
    "val,test = train_test_split(_,train_size=0.666)"
   ]
  },
  {
   "cell_type": "code",
   "execution_count": 25,
   "id": "507afd39-1b61-42c0-96ce-7afa35a82e74",
   "metadata": {
    "tags": []
   },
   "outputs": [],
   "source": [
    "for i, names in enumerate([train,val,test]):\n",
    "    df.loc[df['file_name'].isin(names),'split']=i"
   ]
  },
  {
   "cell_type": "code",
   "execution_count": 27,
   "id": "090cf6c9-25c9-4d7e-a70a-4e866109f98a",
   "metadata": {
    "tags": []
   },
   "outputs": [],
   "source": [
    "name_map = {0:'train',1:'test',2:'val'}"
   ]
  },
  {
   "cell_type": "code",
   "execution_count": 42,
   "id": "b5280087-1050-4a45-a13e-c7c480d67e76",
   "metadata": {
    "tags": []
   },
   "outputs": [
    {
     "name": "stderr",
     "output_type": "stream",
     "text": [
      "775it [00:00, 7854.27it/s]\n"
     ]
    }
   ],
   "source": [
    "for v in name_map.values():\n",
    "    _p = os.path.join('./data',v)\n",
    "    if not os.path.exists(_p):\n",
    "        os.makedirs(_p)\n",
    "    _p_im = os.path.join(_p,'images')\n",
    "    if not os.path.exists(_p_im):\n",
    "        os.makedirs(_p_im)\n",
    "    _p_lab = os.path.join(_p,'labels')\n",
    "    if not os.path.exists(_p_lab):\n",
    "        os.makedirs(_p_lab)\n",
    "for i,r in tqdm(df[df['is_present']==True].iterrows()):\n",
    "    im_path = os.path.join('./data',name_map[r['split']],'images',r['file_name'])\n",
    "    shutil.copy(r['export_name'],im_path)\n",
    "    lab_path = os.path.join('./data',name_map[r['split']],'labels',r['file_name'].replace('png','txt'))\n",
    "    with open(lab_path,'w') as f:\n",
    "        f.write('0 '+ ' '.join([str(_) for _ in r['coco_info']]))"
   ]
  },
  {
   "cell_type": "code",
   "execution_count": null,
   "id": "caf4e212-29ca-4d1c-aa23-eb240e016927",
   "metadata": {},
   "outputs": [],
   "source": []
  }
 ],
 "metadata": {
  "kernelspec": {
   "display_name": "py310_yolo_ultralytics",
   "language": "python",
   "name": "py310_yolo_ultralytics"
  },
  "language_info": {
   "codemirror_mode": {
    "name": "ipython",
    "version": 3
   },
   "file_extension": ".py",
   "mimetype": "text/x-python",
   "name": "python",
   "nbconvert_exporter": "python",
   "pygments_lexer": "ipython3",
   "version": "3.10.12"
  }
 },
 "nbformat": 4,
 "nbformat_minor": 5
}
